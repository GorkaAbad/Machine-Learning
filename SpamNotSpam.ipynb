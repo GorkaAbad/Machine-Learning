{
  "nbformat": 4,
  "nbformat_minor": 0,
  "metadata": {
    "colab": {
      "name": "SpamNotSpam.ipynb",
      "provenance": [],
      "collapsed_sections": [],
      "authorship_tag": "ABX9TyNzjx7kp8s71jQgVAIQKHlG",
      "include_colab_link": true
    },
    "kernelspec": {
      "name": "python3",
      "display_name": "Python 3"
    }
  },
  "cells": [
    {
      "cell_type": "markdown",
      "metadata": {
        "id": "view-in-github",
        "colab_type": "text"
      },
      "source": [
        "<a href=\"https://colab.research.google.com/github/GorkaAbad/Machine-Learning/blob/main/SpamNotSpam.ipynb\" target=\"_parent\"><img src=\"https://colab.research.google.com/assets/colab-badge.svg\" alt=\"Open In Colab\"/></a>"
      ]
    },
    {
      "cell_type": "code",
      "metadata": {
        "id": "tQnLsxvdjpn1"
      },
      "source": [
        "from google.colab import files\r\n",
        "import pandas as pd\r\n",
        "import numpy as np\r\n",
        "from sklearn.feature_extraction.text import CountVectorizer\r\n",
        "import sklearn\r\n",
        "import string\r\n",
        "import nltk\r\n",
        "from nltk.corpus import stopwords"
      ],
      "execution_count": null,
      "outputs": []
    },
    {
      "cell_type": "markdown",
      "metadata": {
        "id": "M4Y3pljbkcxH"
      },
      "source": [
        "emails.csv is a 2 dimensional dataset. The feaure text, describes the Subject and the Body of the email. The class is represented by \"spam\" 1 or 0."
      ]
    },
    {
      "cell_type": "code",
      "metadata": {
        "colab": {
          "base_uri": "https://localhost:8080/"
        },
        "id": "Pw4vSI-nkUDu",
        "outputId": "daaa8353-af68-4735-f9c7-277cae6d3794"
      },
      "source": [
        "dataset = pd.read_csv(\"emails.csv\")\r\n",
        "dataset.head()\r\n",
        "dataset.shape"
      ],
      "execution_count": null,
      "outputs": [
        {
          "output_type": "execute_result",
          "data": {
            "text/plain": [
              "(5728, 2)"
            ]
          },
          "metadata": {
            "tags": []
          },
          "execution_count": 8
        }
      ]
    },
    {
      "cell_type": "markdown",
      "metadata": {
        "id": "No-dutGRow0s"
      },
      "source": [
        "Data preprocesing"
      ]
    },
    {
      "cell_type": "code",
      "metadata": {
        "colab": {
          "base_uri": "https://localhost:8080/"
        },
        "id": "3kmaPQuTozKo",
        "outputId": "1ffc193a-10f7-4f92-9263-3b95b24605bf"
      },
      "source": [
        "#Remove duplicates\r\n",
        "dataset.drop_duplicates(inplace=True)\r\n",
        "dataset.shape"
      ],
      "execution_count": null,
      "outputs": [
        {
          "output_type": "execute_result",
          "data": {
            "text/plain": [
              "(5695, 2)"
            ]
          },
          "metadata": {
            "tags": []
          },
          "execution_count": 9
        }
      ]
    },
    {
      "cell_type": "code",
      "metadata": {
        "colab": {
          "base_uri": "https://localhost:8080/"
        },
        "id": "SjgAg0Mh1t7F",
        "outputId": "b31f6253-4095-4e7a-c17f-26b06ea0454b"
      },
      "source": [
        "nltk.download(\"stopwords\")"
      ],
      "execution_count": null,
      "outputs": [
        {
          "output_type": "stream",
          "text": [
            "[nltk_data] Downloading package stopwords to /root/nltk_data...\n",
            "[nltk_data]   Unzipping corpora/stopwords.zip.\n"
          ],
          "name": "stdout"
        },
        {
          "output_type": "execute_result",
          "data": {
            "text/plain": [
              "True"
            ]
          },
          "metadata": {
            "tags": []
          },
          "execution_count": 10
        }
      ]
    },
    {
      "cell_type": "code",
      "metadata": {
        "colab": {
          "base_uri": "https://localhost:8080/"
        },
        "id": "LX5RRAr_0DQF",
        "outputId": "76cfe263-074f-493b-b0a4-e6416dafda36"
      },
      "source": [
        "def process(text):\r\n",
        "  clean = [char for char in text if char not in string.punctuation]\r\n",
        "  clean = ''.join(clean)\r\n",
        "  clean = clean.lower()\r\n",
        "\r\n",
        "  clean = [word for word in clean.split() if word not in stopwords.words('english')]\r\n",
        "\r\n",
        "  return clean\r\n",
        "\r\n",
        "dataset['text'].head().apply(process)"
      ],
      "execution_count": null,
      "outputs": [
        {
          "output_type": "execute_result",
          "data": {
            "text/plain": [
              "0    [subject, naturally, irresistible, corporate, ...\n",
              "1    [subject, stock, trading, gunslinger, fanny, m...\n",
              "2    [subject, unbelievable, new, homes, made, easy...\n",
              "3    [subject, 4, color, printing, special, request...\n",
              "4    [subject, money, get, software, cds, software,...\n",
              "Name: text, dtype: object"
            ]
          },
          "metadata": {
            "tags": []
          },
          "execution_count": 12
        }
      ]
    },
    {
      "cell_type": "code",
      "metadata": {
        "id": "L_rap9_qIXFp"
      },
      "source": [
        "Trainning"
      ],
      "execution_count": null,
      "outputs": []
    },
    {
      "cell_type": "code",
      "metadata": {
        "id": "9TseVMLvk-wT"
      },
      "source": [
        " bow = CountVectorizer(analyzer=process).fit_transform(dataset['text'])\r\n"
      ],
      "execution_count": null,
      "outputs": []
    },
    {
      "cell_type": "code",
      "metadata": {
        "colab": {
          "base_uri": "https://localhost:8080/"
        },
        "id": "eFABNdtIEg6d",
        "outputId": "6162c540-91fa-48f4-d842-a3e240b83880"
      },
      "source": [
        "xtrain, xtest, ytrain, ytest= sklearn.model_selection.train_test_split(bow, dataset['spam'], test_size=0.2, random_state=0, shuffle=True)\r\n",
        "print(bow.shape)"
      ],
      "execution_count": null,
      "outputs": [
        {
          "output_type": "stream",
          "text": [
            "(5695, 37228)\n"
          ],
          "name": "stdout"
        }
      ]
    },
    {
      "cell_type": "code",
      "metadata": {
        "id": "eXkOpsS3IF-a"
      },
      "source": [
        "from sklearn.naive_bayes import MultinomialNB\r\n",
        "classifier = MultinomialNB().fit(xtrain, ytrain)"
      ],
      "execution_count": null,
      "outputs": []
    },
    {
      "cell_type": "code",
      "metadata": {
        "colab": {
          "base_uri": "https://localhost:8080/"
        },
        "id": "h4xnjsGDIIcK",
        "outputId": "a9b50272-2e19-4cf5-8999-d3c0387d4ebd"
      },
      "source": [
        "print(classifier.predict(xtrain))\r\n",
        "print(ytrain.values)"
      ],
      "execution_count": null,
      "outputs": [
        {
          "output_type": "stream",
          "text": [
            "[0 0 0 ... 0 0 0]\n",
            "[0 0 0 ... 0 0 0]\n"
          ],
          "name": "stdout"
        }
      ]
    },
    {
      "cell_type": "markdown",
      "metadata": {
        "id": "a59dPxBeITwA"
      },
      "source": [
        "Train data"
      ]
    },
    {
      "cell_type": "code",
      "metadata": {
        "colab": {
          "base_uri": "https://localhost:8080/"
        },
        "id": "NzNs2mW1INp9",
        "outputId": "9f34cc28-5c19-42d0-8e33-fdf765316789"
      },
      "source": [
        "from sklearn.metrics import classification_report, confusion_matrix, accuracy_score\r\n",
        "pred = classifier.predict(xtrain)\r\n",
        "print(classification_report(ytrain, pred))\r\n",
        "print()\r\n",
        "print(\"Confusion Matrix: \\n\", confusion_matrix(ytrain, pred))\r\n",
        "print(\"Accuracy: \\n\", accuracy_score(ytrain, pred))"
      ],
      "execution_count": null,
      "outputs": [
        {
          "output_type": "stream",
          "text": [
            "              precision    recall  f1-score   support\n",
            "\n",
            "           0       1.00      1.00      1.00      3457\n",
            "           1       0.99      1.00      0.99      1099\n",
            "\n",
            "    accuracy                           1.00      4556\n",
            "   macro avg       1.00      1.00      1.00      4556\n",
            "weighted avg       1.00      1.00      1.00      4556\n",
            "\n",
            "\n",
            "Confusion Matrix: \n",
            " [[3447   10]\n",
            " [   3 1096]]\n",
            "Accuracy: \n",
            " 0.9971466198419666\n"
          ],
          "name": "stdout"
        }
      ]
    },
    {
      "cell_type": "markdown",
      "metadata": {
        "id": "1XNSRH2xJsYX"
      },
      "source": [
        "Test data"
      ]
    },
    {
      "cell_type": "code",
      "metadata": {
        "colab": {
          "base_uri": "https://localhost:8080/"
        },
        "id": "KFe7KUBfJsBx",
        "outputId": "628d73a2-cffa-41de-b836-3e657675de0a"
      },
      "source": [
        "#Predictions\r\n",
        "print(classifier.predict(xtest))\r\n",
        "print(ytest.values)"
      ],
      "execution_count": null,
      "outputs": [
        {
          "output_type": "stream",
          "text": [
            "[1 0 0 ... 0 0 0]\n",
            "[1 0 0 ... 0 0 0]\n"
          ],
          "name": "stdout"
        }
      ]
    },
    {
      "cell_type": "code",
      "metadata": {
        "colab": {
          "base_uri": "https://localhost:8080/"
        },
        "id": "RkbRkUfcJ95v",
        "outputId": "27315eaf-5da1-4cdc-cdba-03fa1dcc47c1"
      },
      "source": [
        "pred = classifier.predict(xtest)\r\n",
        "print(classification_report(ytest, pred))\r\n",
        "print()\r\n",
        "print(\"Confusion Matrix: \\n\", confusion_matrix(ytest, pred))\r\n",
        "print(\"Accuracy: \\n\", accuracy_score(ytest, pred))"
      ],
      "execution_count": null,
      "outputs": [
        {
          "output_type": "stream",
          "text": [
            "              precision    recall  f1-score   support\n",
            "\n",
            "           0       1.00      0.99      0.99       870\n",
            "           1       0.97      0.99      0.98       269\n",
            "\n",
            "    accuracy                           0.99      1139\n",
            "   macro avg       0.99      0.99      0.99      1139\n",
            "weighted avg       0.99      0.99      0.99      1139\n",
            "\n",
            "\n",
            "Confusion Matrix: \n",
            " [[863   7]\n",
            " [  2 267]]\n",
            "Accuracy: \n",
            " 0.9920983318700615\n"
          ],
          "name": "stdout"
        }
      ]
    },
    {
      "cell_type": "markdown",
      "metadata": {
        "id": "GXdrb7ytAsZZ"
      },
      "source": [
        "Trying another classifier. (Stochastic Gradient Descent)"
      ]
    },
    {
      "cell_type": "code",
      "metadata": {
        "id": "DRJqqvySKyZK"
      },
      "source": [
        "from sklearn.linear_model import SGDClassifier"
      ],
      "execution_count": null,
      "outputs": []
    },
    {
      "cell_type": "code",
      "metadata": {
        "id": "OVmSi0xjLCRj",
        "colab": {
          "base_uri": "https://localhost:8080/"
        },
        "outputId": "1cb2b22a-4a14-415c-81a9-ad8b840261c1"
      },
      "source": [
        "sdg = SGDClassifier(loss='hinge', penalty=\"l2\", shuffle=True, learning_rate='optimal')\r\n",
        "sdg.fit(xtrain, ytrain)"
      ],
      "execution_count": null,
      "outputs": [
        {
          "output_type": "execute_result",
          "data": {
            "text/plain": [
              "SGDClassifier(alpha=0.0001, average=False, class_weight=None,\n",
              "              early_stopping=False, epsilon=0.1, eta0=0.0, fit_intercept=True,\n",
              "              l1_ratio=0.15, learning_rate='optimal', loss='hinge',\n",
              "              max_iter=1000, n_iter_no_change=5, n_jobs=None, penalty='l2',\n",
              "              power_t=0.5, random_state=None, shuffle=True, tol=0.001,\n",
              "              validation_fraction=0.1, verbose=0, warm_start=False)"
            ]
          },
          "metadata": {
            "tags": []
          },
          "execution_count": 16
        }
      ]
    },
    {
      "cell_type": "code",
      "metadata": {
        "colab": {
          "base_uri": "https://localhost:8080/"
        },
        "id": "ZWyyTvlWBtNa",
        "outputId": "8b973be7-17f1-41a9-ea4d-43c46490ce72"
      },
      "source": [
        "from sklearn.metrics import classification_report, confusion_matrix, accuracy_score\r\n",
        "pred = sdg.predict(xtrain)\r\n",
        "print(classification_report(ytrain, pred))\r\n",
        "print()\r\n",
        "print(\"Confusion Matrix: \\n\", confusion_matrix(ytrain, pred))\r\n",
        "print(\"Accuracy: \\n\", accuracy_score(ytrain, pred))"
      ],
      "execution_count": null,
      "outputs": [
        {
          "output_type": "stream",
          "text": [
            "              precision    recall  f1-score   support\n",
            "\n",
            "           0       1.00      1.00      1.00      3457\n",
            "           1       1.00      1.00      1.00      1099\n",
            "\n",
            "    accuracy                           1.00      4556\n",
            "   macro avg       1.00      1.00      1.00      4556\n",
            "weighted avg       1.00      1.00      1.00      4556\n",
            "\n",
            "\n",
            "Confusion Matrix: \n",
            " [[3457    0]\n",
            " [   0 1099]]\n",
            "Accuracy: \n",
            " 1.0\n"
          ],
          "name": "stdout"
        }
      ]
    },
    {
      "cell_type": "code",
      "metadata": {
        "colab": {
          "base_uri": "https://localhost:8080/"
        },
        "id": "7t3N-8M-DVef",
        "outputId": "4fff17c9-f533-45f0-de8a-e0c792e83950"
      },
      "source": [
        "pred = sdg.predict(xtest)\r\n",
        "print(classification_report(ytest, pred))\r\n",
        "print()\r\n",
        "print(\"Confusion Matrix: \\n\", confusion_matrix(ytest, pred))\r\n",
        "print(\"Accuracy: \\n\", accuracy_score(ytest, pred))"
      ],
      "execution_count": null,
      "outputs": [
        {
          "output_type": "stream",
          "text": [
            "              precision    recall  f1-score   support\n",
            "\n",
            "           0       0.99      0.99      0.99       870\n",
            "           1       0.97      0.96      0.96       269\n",
            "\n",
            "    accuracy                           0.98      1139\n",
            "   macro avg       0.98      0.97      0.98      1139\n",
            "weighted avg       0.98      0.98      0.98      1139\n",
            "\n",
            "\n",
            "Confusion Matrix: \n",
            " [[863   7]\n",
            " [ 12 257]]\n",
            "Accuracy: \n",
            " 0.9833187006145742\n"
          ],
          "name": "stdout"
        }
      ]
    },
    {
      "cell_type": "code",
      "metadata": {
        "colab": {
          "base_uri": "https://localhost:8080/",
          "height": 371
        },
        "id": "_16ALHSEHrcy",
        "outputId": "2f4d5bf4-bc4c-4740-b5ed-dbf78c52412b"
      },
      "source": [
        "import matplotlib.pyplot as plt\r\n",
        "n_iters = [5, 10, 20, 50, 100, 1000]\r\n",
        "scores = []\r\n",
        "for n_iter in n_iters:\r\n",
        "    clf = SGDClassifier(loss=\"hinge\", penalty=\"l2\", max_iter=n_iter)\r\n",
        "    clf.fit(xtrain, ytrain)\r\n",
        "    scores.append(clf.score(xtest,ytest))\r\n",
        "  \r\n",
        "plt.title(\"Effect of n_iter\")\r\n",
        "plt.xlabel(\"n_iter\")\r\n",
        "plt.ylabel(\"score\")\r\n",
        "plt.plot(n_iters, scores)"
      ],
      "execution_count": null,
      "outputs": [
        {
          "output_type": "stream",
          "text": [
            "/usr/local/lib/python3.6/dist-packages/sklearn/linear_model/_stochastic_gradient.py:557: ConvergenceWarning: Maximum number of iteration reached before convergence. Consider increasing max_iter to improve the fit.\n",
            "  ConvergenceWarning)\n"
          ],
          "name": "stderr"
        },
        {
          "output_type": "execute_result",
          "data": {
            "text/plain": [
              "[<matplotlib.lines.Line2D at 0x7f371080bac8>]"
            ]
          },
          "metadata": {
            "tags": []
          },
          "execution_count": 61
        },
        {
          "output_type": "display_data",
          "data": {
            "image/png": "[encoded data removed]",
            "text/plain": [
              "<Figure size 432x288 with 1 Axes>"
            ]
          },
          "metadata": {
            "tags": [],
            "needs_background": "light"
          }
        }
      ]
    }
  ]
}